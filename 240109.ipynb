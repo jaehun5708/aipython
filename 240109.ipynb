{
  "nbformat": 4,
  "nbformat_minor": 0,
  "metadata": {
    "colab": {
      "provenance": [],
      "authorship_tag": "ABX9TyMQu+IhOrRz4J4hTQODSq/N",
      "include_colab_link": true
    },
    "kernelspec": {
      "name": "python3",
      "display_name": "Python 3"
    },
    "language_info": {
      "name": "python"
    }
  },
  "cells": [
    {
      "cell_type": "markdown",
      "metadata": {
        "id": "view-in-github",
        "colab_type": "text"
      },
      "source": [
        "<a href=\"https://colab.research.google.com/github/jaehun5708/aipython/blob/main/240109.ipynb\" target=\"_parent\"><img src=\"https://colab.research.google.com/assets/colab-badge.svg\" alt=\"Open In Colab\"/></a>"
      ]
    },
    {
      "cell_type": "code",
      "execution_count": null,
      "metadata": {
        "colab": {
          "base_uri": "https://localhost:8080/"
        },
        "id": "ZDWW-hO7ACSZ",
        "outputId": "df659c99-71a9-4c3c-adb9-c314979cdfa9"
      },
      "outputs": [
        {
          "output_type": "stream",
          "name": "stdout",
          "text": [
            "1.23.5\n"
          ]
        }
      ],
      "source": [
        "import numpy as np\n",
        "print(np.__version__)"
      ]
    },
    {
      "cell_type": "code",
      "source": [
        "import numpy as np\n",
        "# 1차원 배열\n",
        "arr1d = np.array([1, 2, 3, 4, 5])\n",
        "print(arr1d)\n",
        "# 2차원 배열\n",
        "arr2d = np.array([[1, 2, 3], [4, 5, 6]])\n",
        "print(arr2d)\n",
        "# 배열의 형태, 차원, 데이터 타입 확인\n",
        "print(\"Shape:\", arr2d.shape)\n",
        "print(\"Dimensions:\", arr2d.ndim)\n",
        "print(\"Data Type:\", arr2d.dtype)"
      ],
      "metadata": {
        "colab": {
          "base_uri": "https://localhost:8080/"
        },
        "id": "goheJ7EcHgAW",
        "outputId": "c2ac6d1d-45f8-4a20-cc3e-a783a28ad99a"
      },
      "execution_count": 3,
      "outputs": [
        {
          "output_type": "stream",
          "name": "stdout",
          "text": [
            "[1 2 3 4 5]\n",
            "[[1 2 3]\n",
            " [4 5 6]]\n",
            "Shape: (2, 3)\n",
            "Dimensions: 2\n",
            "Data Type: int64\n"
          ]
        }
      ]
    },
    {
      "cell_type": "code",
      "source": [
        "import numpy as np\n",
        "# 0부터 9까지\n",
        "arr = np.arange(10)\n",
        "print(arr)\n",
        "# 2부터 19까지, 간격은 2\n",
        "arr = np.arange(2, 20, 2)\n",
        "print(arr)\n"
      ],
      "metadata": {
        "colab": {
          "base_uri": "https://localhost:8080/"
        },
        "id": "lBxOsF1UISN-",
        "outputId": "488f6360-84ad-4fc5-8856-2366064b933a"
      },
      "execution_count": 4,
      "outputs": [
        {
          "output_type": "stream",
          "name": "stdout",
          "text": [
            "[0 1 2 3 4 5 6 7 8 9]\n",
            "[ 2  4  6  8 10 12 14 16 18]\n"
          ]
        }
      ]
    },
    {
      "cell_type": "code",
      "source": [
        "import numpy as np\n",
        "# 1차원 배열\n",
        "zeros_1d = np.zeros(5)\n",
        "print(zeros_1d)\n",
        "# 2차원 배열\n",
        "zeros_2d = np.zeros((3, 4))\n",
        "print(zeros_2d)"
      ],
      "metadata": {
        "colab": {
          "base_uri": "https://localhost:8080/"
        },
        "id": "HY1CUz-aIUIV",
        "outputId": "3d1e6b0b-f8ea-47a1-e50d-48868d500837"
      },
      "execution_count": 5,
      "outputs": [
        {
          "output_type": "stream",
          "name": "stdout",
          "text": [
            "[0. 0. 0. 0. 0.]\n",
            "[[0. 0. 0. 0.]\n",
            " [0. 0. 0. 0.]\n",
            " [0. 0. 0. 0.]]\n"
          ]
        }
      ]
    },
    {
      "cell_type": "code",
      "source": [
        "import numpy as np\n",
        "# 1차원 배열\n",
        "ones_1d = np.ones(5)\n",
        "print(ones_1d)\n",
        "# 2차원 배열\n",
        "ones_2d = np.ones((3, 4))\n",
        "print(ones_2d)"
      ],
      "metadata": {
        "colab": {
          "base_uri": "https://localhost:8080/"
        },
        "id": "bXcPkE1NIbY4",
        "outputId": "e7588e6d-e23f-4c90-ee14-caa6da3ee8c9"
      },
      "execution_count": 8,
      "outputs": [
        {
          "output_type": "stream",
          "name": "stdout",
          "text": [
            "[1. 1. 1. 1. 1.]\n",
            "[[1. 1. 1. 1.]\n",
            " [1. 1. 1. 1.]\n",
            " [1. 1. 1. 1.]]\n"
          ]
        }
      ]
    },
    {
      "cell_type": "code",
      "source": [
        "import numpy as np\n",
        "# 1차원 배열\n",
        "arr_1d = np.random.rand(5)\n",
        "print(arr_1d)\n",
        "# 2차원 배열\n",
        "arr_2d = np.random.rand(2, 3)\n",
        "print(arr_2d)"
      ],
      "metadata": {
        "colab": {
          "base_uri": "https://localhost:8080/"
        },
        "id": "Uayuwf7TIjVC",
        "outputId": "d08a5f8e-a485-4381-ea80-41771a2f7f1e"
      },
      "execution_count": 11,
      "outputs": [
        {
          "output_type": "stream",
          "name": "stdout",
          "text": [
            "[0.528621   0.17220757 0.47115862 0.38061066 0.78594888]\n",
            "[[0.02610507 0.70588906 0.00325031]\n",
            " [0.85017641 0.4977351  0.71091555]]\n"
          ]
        }
      ]
    },
    {
      "cell_type": "code",
      "source": [
        "# 0부터 1까지 5개의 값\n",
        "arr = np.linspace(0, 1, 5)\n",
        "print(arr)\n"
      ],
      "metadata": {
        "colab": {
          "base_uri": "https://localhost:8080/"
        },
        "id": "8UNEyNDnI8Xt",
        "outputId": "391e2e5b-c0fa-42cb-843b-45c7d010d131"
      },
      "execution_count": 12,
      "outputs": [
        {
          "output_type": "stream",
          "name": "stdout",
          "text": [
            "[0.   0.25 0.5  0.75 1.  ]\n"
          ]
        }
      ]
    },
    {
      "cell_type": "code",
      "source": [
        "import numpy as np\n",
        "arr=np.array([[1,2,3],[4,5,6]])\n",
        "print(\"합:\",np.sum(arr))\n",
        "print(\"행의 원소 합: \",np.sum(arr, axis=0))\n",
        "print(\"열의 원소 합: \",np.sum(arr, axis=1))\n",
        "print(\"평균:\",np.mean(arr))\n",
        "print(\"행의 원소 평균: \",np.mean(arr, axis=0))\n",
        "print(\"열의 원소 평균: \",np.mean(arr, axis=1))\n",
        "print(\"최대:\",np.max(arr))\n",
        "print(\"최소:\",np.min(arr))\n",
        "print(\"행의 원소 최대값: \",np.max(arr, axis=0))\n",
        "print(\"행의 원소 최소값: \",np.min(arr, axis=0))\n",
        "print(\"열의 원소 최대값: \",np.max(arr, axis=1))\n",
        "print(\"열의 원소 최소값: \",np.min(arr, axis=1))\n",
        "print(np.argmax(arr))\n",
        "print(np.argmin(arr))\n",
        "print(\"분산:\",np.var(arr))\n",
        "print(\"표준편차:\",np.std(arr))"
      ],
      "metadata": {
        "colab": {
          "base_uri": "https://localhost:8080/"
        },
        "id": "IIn8-uOVJMbF",
        "outputId": "722a1b90-81e1-4690-a267-8ab50f350627"
      },
      "execution_count": 14,
      "outputs": [
        {
          "output_type": "stream",
          "name": "stdout",
          "text": [
            "합: 21\n",
            "행의 원소 합:  [5 7 9]\n",
            "열의 원소 합:  [ 6 15]\n",
            "평균: 3.5\n",
            "행의 원소 평균:  [2.5 3.5 4.5]\n",
            "열의 원소 평균:  [2. 5.]\n",
            "최대: 6\n",
            "최소: 1\n",
            "행의 원소 최대값:  [4 5 6]\n",
            "행의 원소 최소값:  [1 2 3]\n",
            "열의 원소 최대값:  [3 6]\n",
            "열의 원소 최소값:  [1 4]\n",
            "5\n",
            "0\n",
            "분산: 2.9166666666666665\n",
            "표준편차: 1.707825127659933\n"
          ]
        }
      ]
    },
    {
      "cell_type": "code",
      "source": [
        "import numpy as np\n",
        "arr = np.arange(1,10,2)\n",
        "print(arr)\n",
        "\n",
        "ones_2d = np.ones((3, 4))\n",
        "print(ones_2d)\n",
        "\n",
        "arr = np.linspace(0, 1, 10)\n",
        "print(arr)"
      ],
      "metadata": {
        "colab": {
          "base_uri": "https://localhost:8080/"
        },
        "id": "EZrrMvE1JzNu",
        "outputId": "7558b389-5bee-4326-e511-c1e08727a96b"
      },
      "execution_count": 18,
      "outputs": [
        {
          "output_type": "stream",
          "name": "stdout",
          "text": [
            "[1 3 5 7 9]\n",
            "[[1. 1. 1. 1.]\n",
            " [1. 1. 1. 1.]\n",
            " [1. 1. 1. 1.]]\n",
            "[0.         0.11111111 0.22222222 0.33333333 0.44444444 0.55555556\n",
            " 0.66666667 0.77777778 0.88888889 1.        ]\n"
          ]
        }
      ]
    },
    {
      "cell_type": "code",
      "source": [
        "import numpy as np\n",
        "arr1 = np.ones([3,4])\n",
        "print(arr1)\n",
        "print('size :', arr1.size)\n",
        "print('dtype :', arr1.dtype)\n",
        "print('shape :', arr1.shape)\n",
        "print('ndim :',arr1.ndim)"
      ],
      "metadata": {
        "colab": {
          "base_uri": "https://localhost:8080/"
        },
        "id": "xKgn6nu1LTX9",
        "outputId": "403db3e1-f12a-419c-9913-d61541bb5e82"
      },
      "execution_count": 19,
      "outputs": [
        {
          "output_type": "stream",
          "name": "stdout",
          "text": [
            "[[1. 1. 1. 1.]\n",
            " [1. 1. 1. 1.]\n",
            " [1. 1. 1. 1.]]\n",
            "size : 12\n",
            "dtype : float64\n",
            "shape : (3, 4)\n",
            "ndim : 2\n"
          ]
        }
      ]
    },
    {
      "cell_type": "code",
      "source": [
        "import numpy as np\n",
        "arr1 = np.array([[1,2,3],\n",
        "[4,5,6],\n",
        "[7,8,9]])\n",
        "print(arr1[0])\n",
        "print(arr1[0,2])\n",
        "print(arr1[1:])\n",
        "print(arr1[arr1 > 5])"
      ],
      "metadata": {
        "colab": {
          "base_uri": "https://localhost:8080/"
        },
        "id": "uC3dPG_NLY19",
        "outputId": "30fcd4a1-b492-4095-8e35-7056995aa707"
      },
      "execution_count": 20,
      "outputs": [
        {
          "output_type": "stream",
          "name": "stdout",
          "text": [
            "[1 2 3]\n",
            "3\n",
            "[[4 5 6]\n",
            " [7 8 9]]\n",
            "[6 7 8 9]\n"
          ]
        }
      ]
    },
    {
      "cell_type": "code",
      "source": [
        "a = np.arange(1, 26).reshape(5,5)\n",
        "print(a)\n",
        "print(a.shape)\n",
        "print(a[3,3])\n",
        "print(a[0:2,0:2])\n",
        "print(a[3:5,3:5])\n",
        "print(a[0:2,0:5])\n",
        "print(a[0:5,3:5])"
      ],
      "metadata": {
        "colab": {
          "base_uri": "https://localhost:8080/"
        },
        "id": "B37RWp7JLxnt",
        "outputId": "16c215d4-1d65-43bd-d954-8bdc95edd662"
      },
      "execution_count": 41,
      "outputs": [
        {
          "output_type": "stream",
          "name": "stdout",
          "text": [
            "[[ 1  2  3  4  5]\n",
            " [ 6  7  8  9 10]\n",
            " [11 12 13 14 15]\n",
            " [16 17 18 19 20]\n",
            " [21 22 23 24 25]]\n",
            "(5, 5)\n",
            "19\n",
            "[[1 2]\n",
            " [6 7]]\n",
            "[[19 20]\n",
            " [24 25]]\n",
            "[[ 1  2  3  4  5]\n",
            " [ 6  7  8  9 10]]\n",
            "[[ 4  5]\n",
            " [ 9 10]\n",
            " [14 15]\n",
            " [19 20]\n",
            " [24 25]]\n"
          ]
        }
      ]
    },
    {
      "cell_type": "code",
      "source": [
        "arr=np.array([[1,2,3],[4,5,6]])\n",
        "arr_T=arr.transpose()\n",
        "arr_F=arr.flatten()\n",
        "arr_R=arr_F.reshape(3,2)\n",
        "print(arr)\n",
        "print(arr_T)\n",
        "print(arr_F)\n",
        "print(arr_R)"
      ],
      "metadata": {
        "colab": {
          "base_uri": "https://localhost:8080/"
        },
        "id": "51ue2eHxPQ5V",
        "outputId": "758ae581-ee51-4076-e628-7c66e2a81feb"
      },
      "execution_count": 43,
      "outputs": [
        {
          "output_type": "stream",
          "name": "stdout",
          "text": [
            "[[1 2 3]\n",
            " [4 5 6]]\n",
            "[[1 4]\n",
            " [2 5]\n",
            " [3 6]]\n",
            "[1 2 3 4 5 6]\n",
            "[[1 2]\n",
            " [3 4]\n",
            " [5 6]]\n"
          ]
        }
      ]
    },
    {
      "cell_type": "code",
      "source": [
        "import numpy as np\n",
        "a = np.arange(1, 37).reshape(3,3,4)\n",
        "print(a)\n",
        "print(a.shape)\n",
        "print(a.size)\n",
        "print(a.reshape(3,4,3))\n",
        "print(a.flatten())"
      ],
      "metadata": {
        "colab": {
          "base_uri": "https://localhost:8080/"
        },
        "id": "7orsLvtBPdcF",
        "outputId": "c45c551b-4932-4cbb-ece3-a0782095dc8c"
      },
      "execution_count": 51,
      "outputs": [
        {
          "output_type": "stream",
          "name": "stdout",
          "text": [
            "[[[ 1  2  3  4]\n",
            "  [ 5  6  7  8]\n",
            "  [ 9 10 11 12]]\n",
            "\n",
            " [[13 14 15 16]\n",
            "  [17 18 19 20]\n",
            "  [21 22 23 24]]\n",
            "\n",
            " [[25 26 27 28]\n",
            "  [29 30 31 32]\n",
            "  [33 34 35 36]]]\n",
            "(3, 3, 4)\n",
            "36\n",
            "[[[ 1  2  3]\n",
            "  [ 4  5  6]\n",
            "  [ 7  8  9]\n",
            "  [10 11 12]]\n",
            "\n",
            " [[13 14 15]\n",
            "  [16 17 18]\n",
            "  [19 20 21]\n",
            "  [22 23 24]]\n",
            "\n",
            " [[25 26 27]\n",
            "  [28 29 30]\n",
            "  [31 32 33]\n",
            "  [34 35 36]]]\n",
            "[ 1  2  3  4  5  6  7  8  9 10 11 12 13 14 15 16 17 18 19 20 21 22 23 24\n",
            " 25 26 27 28 29 30 31 32 33 34 35 36]\n"
          ]
        }
      ]
    }
  ]
}